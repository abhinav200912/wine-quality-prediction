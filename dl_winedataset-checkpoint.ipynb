{
 "cells": [
  {
   "cell_type": "code",
   "execution_count": 1,
   "metadata": {
    "colab": {
     "base_uri": "https://localhost:8080/",
     "height": 658
    },
    "colab_type": "code",
    "executionInfo": {
     "elapsed": 5030,
     "status": "ok",
     "timestamp": 1594884467201,
     "user": {
      "displayName": "ABHINAV DAS",
      "photoUrl": "https://lh3.googleusercontent.com/a-/AOh14Gg-H5lMwuXqg7oB5QljZnroho8lUdwoofSDuKXl=s64",
      "userId": "00722746349216718075"
     },
     "user_tz": -330
    },
    "id": "N1RyV5fohTeo",
    "outputId": "58746cba-b470-469e-9677-09cfe632ac21"
   },
   "outputs": [
    {
     "name": "stdout",
     "output_type": "stream",
     "text": [
      "Requirement already satisfied: tensorflow in /usr/local/lib/python3.6/dist-packages (2.2.0)\n",
      "Requirement already satisfied: h5py<2.11.0,>=2.10.0 in /usr/local/lib/python3.6/dist-packages (from tensorflow) (2.10.0)\n",
      "Requirement already satisfied: tensorboard<2.3.0,>=2.2.0 in /usr/local/lib/python3.6/dist-packages (from tensorflow) (2.2.2)\n",
      "Requirement already satisfied: wheel>=0.26; python_version >= \"3\" in /usr/local/lib/python3.6/dist-packages (from tensorflow) (0.34.2)\n",
      "Requirement already satisfied: six>=1.12.0 in /usr/local/lib/python3.6/dist-packages (from tensorflow) (1.12.0)\n",
      "Requirement already satisfied: absl-py>=0.7.0 in /usr/local/lib/python3.6/dist-packages (from tensorflow) (0.9.0)\n",
      "Requirement already satisfied: termcolor>=1.1.0 in /usr/local/lib/python3.6/dist-packages (from tensorflow) (1.1.0)\n",
      "Requirement already satisfied: grpcio>=1.8.6 in /usr/local/lib/python3.6/dist-packages (from tensorflow) (1.30.0)\n",
      "Requirement already satisfied: numpy<2.0,>=1.16.0 in /usr/local/lib/python3.6/dist-packages (from tensorflow) (1.18.5)\n",
      "Requirement already satisfied: google-pasta>=0.1.8 in /usr/local/lib/python3.6/dist-packages (from tensorflow) (0.2.0)\n",
      "Requirement already satisfied: astunparse==1.6.3 in /usr/local/lib/python3.6/dist-packages (from tensorflow) (1.6.3)\n",
      "Requirement already satisfied: opt-einsum>=2.3.2 in /usr/local/lib/python3.6/dist-packages (from tensorflow) (3.2.1)\n",
      "Requirement already satisfied: gast==0.3.3 in /usr/local/lib/python3.6/dist-packages (from tensorflow) (0.3.3)\n",
      "Requirement already satisfied: wrapt>=1.11.1 in /usr/local/lib/python3.6/dist-packages (from tensorflow) (1.12.1)\n",
      "Requirement already satisfied: protobuf>=3.8.0 in /usr/local/lib/python3.6/dist-packages (from tensorflow) (3.10.0)\n",
      "Requirement already satisfied: scipy==1.4.1; python_version >= \"3\" in /usr/local/lib/python3.6/dist-packages (from tensorflow) (1.4.1)\n",
      "Requirement already satisfied: tensorflow-estimator<2.3.0,>=2.2.0 in /usr/local/lib/python3.6/dist-packages (from tensorflow) (2.2.0)\n",
      "Requirement already satisfied: keras-preprocessing>=1.1.0 in /usr/local/lib/python3.6/dist-packages (from tensorflow) (1.1.2)\n",
      "Requirement already satisfied: markdown>=2.6.8 in /usr/local/lib/python3.6/dist-packages (from tensorboard<2.3.0,>=2.2.0->tensorflow) (3.2.2)\n",
      "Requirement already satisfied: werkzeug>=0.11.15 in /usr/local/lib/python3.6/dist-packages (from tensorboard<2.3.0,>=2.2.0->tensorflow) (1.0.1)\n",
      "Requirement already satisfied: tensorboard-plugin-wit>=1.6.0 in /usr/local/lib/python3.6/dist-packages (from tensorboard<2.3.0,>=2.2.0->tensorflow) (1.7.0)\n",
      "Requirement already satisfied: google-auth-oauthlib<0.5,>=0.4.1 in /usr/local/lib/python3.6/dist-packages (from tensorboard<2.3.0,>=2.2.0->tensorflow) (0.4.1)\n",
      "Requirement already satisfied: google-auth<2,>=1.6.3 in /usr/local/lib/python3.6/dist-packages (from tensorboard<2.3.0,>=2.2.0->tensorflow) (1.17.2)\n",
      "Requirement already satisfied: setuptools>=41.0.0 in /usr/local/lib/python3.6/dist-packages (from tensorboard<2.3.0,>=2.2.0->tensorflow) (49.1.0)\n",
      "Requirement already satisfied: requests<3,>=2.21.0 in /usr/local/lib/python3.6/dist-packages (from tensorboard<2.3.0,>=2.2.0->tensorflow) (2.23.0)\n",
      "Requirement already satisfied: importlib-metadata; python_version < \"3.8\" in /usr/local/lib/python3.6/dist-packages (from markdown>=2.6.8->tensorboard<2.3.0,>=2.2.0->tensorflow) (1.7.0)\n",
      "Requirement already satisfied: requests-oauthlib>=0.7.0 in /usr/local/lib/python3.6/dist-packages (from google-auth-oauthlib<0.5,>=0.4.1->tensorboard<2.3.0,>=2.2.0->tensorflow) (1.3.0)\n",
      "Requirement already satisfied: cachetools<5.0,>=2.0.0 in /usr/local/lib/python3.6/dist-packages (from google-auth<2,>=1.6.3->tensorboard<2.3.0,>=2.2.0->tensorflow) (4.1.1)\n",
      "Requirement already satisfied: rsa<5,>=3.1.4; python_version >= \"3\" in /usr/local/lib/python3.6/dist-packages (from google-auth<2,>=1.6.3->tensorboard<2.3.0,>=2.2.0->tensorflow) (4.6)\n",
      "Requirement already satisfied: pyasn1-modules>=0.2.1 in /usr/local/lib/python3.6/dist-packages (from google-auth<2,>=1.6.3->tensorboard<2.3.0,>=2.2.0->tensorflow) (0.2.8)\n",
      "Requirement already satisfied: urllib3!=1.25.0,!=1.25.1,<1.26,>=1.21.1 in /usr/local/lib/python3.6/dist-packages (from requests<3,>=2.21.0->tensorboard<2.3.0,>=2.2.0->tensorflow) (1.24.3)\n",
      "Requirement already satisfied: chardet<4,>=3.0.2 in /usr/local/lib/python3.6/dist-packages (from requests<3,>=2.21.0->tensorboard<2.3.0,>=2.2.0->tensorflow) (3.0.4)\n",
      "Requirement already satisfied: certifi>=2017.4.17 in /usr/local/lib/python3.6/dist-packages (from requests<3,>=2.21.0->tensorboard<2.3.0,>=2.2.0->tensorflow) (2020.6.20)\n",
      "Requirement already satisfied: idna<3,>=2.5 in /usr/local/lib/python3.6/dist-packages (from requests<3,>=2.21.0->tensorboard<2.3.0,>=2.2.0->tensorflow) (2.10)\n",
      "Requirement already satisfied: zipp>=0.5 in /usr/local/lib/python3.6/dist-packages (from importlib-metadata; python_version < \"3.8\"->markdown>=2.6.8->tensorboard<2.3.0,>=2.2.0->tensorflow) (3.1.0)\n",
      "Requirement already satisfied: oauthlib>=3.0.0 in /usr/local/lib/python3.6/dist-packages (from requests-oauthlib>=0.7.0->google-auth-oauthlib<0.5,>=0.4.1->tensorboard<2.3.0,>=2.2.0->tensorflow) (3.1.0)\n",
      "Requirement already satisfied: pyasn1>=0.1.3 in /usr/local/lib/python3.6/dist-packages (from rsa<5,>=3.1.4; python_version >= \"3\"->google-auth<2,>=1.6.3->tensorboard<2.3.0,>=2.2.0->tensorflow) (0.4.8)\n"
     ]
    }
   ],
   "source": [
    "!pip install tensorflow"
   ]
  },
  {
   "cell_type": "code",
   "execution_count": 3,
   "metadata": {
    "colab": {
     "base_uri": "https://localhost:8080/",
     "height": 70
    },
    "colab_type": "code",
    "executionInfo": {
     "elapsed": 2784,
     "status": "ok",
     "timestamp": 1594912384681,
     "user": {
      "displayName": "ABHINAV DAS",
      "photoUrl": "https://lh3.googleusercontent.com/a-/AOh14Gg-H5lMwuXqg7oB5QljZnroho8lUdwoofSDuKXl=s64",
      "userId": "00722746349216718075"
     },
     "user_tz": -330
    },
    "id": "_JB8eDFDhXoP",
    "outputId": "a9731b4c-2741-4ed7-d220-bc2f05db55d5"
   },
   "outputs": [
    {
     "name": "stderr",
     "output_type": "stream",
     "text": [
      "/usr/local/lib/python3.6/dist-packages/statsmodels/tools/_testing.py:19: FutureWarning: pandas.util.testing is deprecated. Use the functions in the public API at pandas.testing instead.\n",
      "  import pandas.util.testing as tm\n"
     ]
    }
   ],
   "source": [
    "import tensorflow as tf\n",
    "import numpy as np\n",
    "import pandas as pd\n",
    "import matplotlib.pyplot as plt\n",
    "import seaborn as sns"
   ]
  },
  {
   "cell_type": "code",
   "execution_count": 4,
   "metadata": {
    "colab": {},
    "colab_type": "code",
    "executionInfo": {
     "elapsed": 1941,
     "status": "ok",
     "timestamp": 1594912391015,
     "user": {
      "displayName": "ABHINAV DAS",
      "photoUrl": "https://lh3.googleusercontent.com/a-/AOh14Gg-H5lMwuXqg7oB5QljZnroho8lUdwoofSDuKXl=s64",
      "userId": "00722746349216718075"
     },
     "user_tz": -330
    },
    "id": "pcxkFuO_iMPY"
   },
   "outputs": [],
   "source": [
    "red = pd.read_csv('http://archive.ics.uci.edu/ml/machine-learning-databases/wine-quality/winequality-red.csv',sep=';')\n",
    "white = pd.read_csv('http://archive.ics.uci.edu/ml/machine-learning-databases/wine-quality/winequality-white.csv',sep=';')"
   ]
  },
  {
   "cell_type": "code",
   "execution_count": 5,
   "metadata": {
    "colab": {
     "base_uri": "https://localhost:8080/",
     "height": 402
    },
    "colab_type": "code",
    "executionInfo": {
     "elapsed": 1004,
     "status": "ok",
     "timestamp": 1594912397294,
     "user": {
      "displayName": "ABHINAV DAS",
      "photoUrl": "https://lh3.googleusercontent.com/a-/AOh14Gg-H5lMwuXqg7oB5QljZnroho8lUdwoofSDuKXl=s64",
      "userId": "00722746349216718075"
     },
     "user_tz": -330
    },
    "id": "EwUNgOo_kFF2",
    "outputId": "f8f10d89-902e-4872-e5c6-0a9a43ceda3e"
   },
   "outputs": [
    {
     "data": {
      "text/html": [
       "<div>\n",
       "<style scoped>\n",
       "    .dataframe tbody tr th:only-of-type {\n",
       "        vertical-align: middle;\n",
       "    }\n",
       "\n",
       "    .dataframe tbody tr th {\n",
       "        vertical-align: top;\n",
       "    }\n",
       "\n",
       "    .dataframe thead th {\n",
       "        text-align: right;\n",
       "    }\n",
       "</style>\n",
       "<table border=\"1\" class=\"dataframe\">\n",
       "  <thead>\n",
       "    <tr style=\"text-align: right;\">\n",
       "      <th></th>\n",
       "      <th>fixed acidity</th>\n",
       "      <th>volatile acidity</th>\n",
       "      <th>citric acid</th>\n",
       "      <th>residual sugar</th>\n",
       "      <th>chlorides</th>\n",
       "      <th>free sulfur dioxide</th>\n",
       "      <th>total sulfur dioxide</th>\n",
       "      <th>density</th>\n",
       "      <th>pH</th>\n",
       "      <th>sulphates</th>\n",
       "      <th>alcohol</th>\n",
       "      <th>quality</th>\n",
       "    </tr>\n",
       "  </thead>\n",
       "  <tbody>\n",
       "    <tr>\n",
       "      <th>0</th>\n",
       "      <td>7.4</td>\n",
       "      <td>0.700</td>\n",
       "      <td>0.00</td>\n",
       "      <td>1.9</td>\n",
       "      <td>0.076</td>\n",
       "      <td>11.0</td>\n",
       "      <td>34.0</td>\n",
       "      <td>0.99780</td>\n",
       "      <td>3.51</td>\n",
       "      <td>0.56</td>\n",
       "      <td>9.4</td>\n",
       "      <td>5</td>\n",
       "    </tr>\n",
       "    <tr>\n",
       "      <th>1</th>\n",
       "      <td>7.8</td>\n",
       "      <td>0.880</td>\n",
       "      <td>0.00</td>\n",
       "      <td>2.6</td>\n",
       "      <td>0.098</td>\n",
       "      <td>25.0</td>\n",
       "      <td>67.0</td>\n",
       "      <td>0.99680</td>\n",
       "      <td>3.20</td>\n",
       "      <td>0.68</td>\n",
       "      <td>9.8</td>\n",
       "      <td>5</td>\n",
       "    </tr>\n",
       "    <tr>\n",
       "      <th>2</th>\n",
       "      <td>7.8</td>\n",
       "      <td>0.760</td>\n",
       "      <td>0.04</td>\n",
       "      <td>2.3</td>\n",
       "      <td>0.092</td>\n",
       "      <td>15.0</td>\n",
       "      <td>54.0</td>\n",
       "      <td>0.99700</td>\n",
       "      <td>3.26</td>\n",
       "      <td>0.65</td>\n",
       "      <td>9.8</td>\n",
       "      <td>5</td>\n",
       "    </tr>\n",
       "    <tr>\n",
       "      <th>3</th>\n",
       "      <td>11.2</td>\n",
       "      <td>0.280</td>\n",
       "      <td>0.56</td>\n",
       "      <td>1.9</td>\n",
       "      <td>0.075</td>\n",
       "      <td>17.0</td>\n",
       "      <td>60.0</td>\n",
       "      <td>0.99800</td>\n",
       "      <td>3.16</td>\n",
       "      <td>0.58</td>\n",
       "      <td>9.8</td>\n",
       "      <td>6</td>\n",
       "    </tr>\n",
       "    <tr>\n",
       "      <th>4</th>\n",
       "      <td>7.4</td>\n",
       "      <td>0.700</td>\n",
       "      <td>0.00</td>\n",
       "      <td>1.9</td>\n",
       "      <td>0.076</td>\n",
       "      <td>11.0</td>\n",
       "      <td>34.0</td>\n",
       "      <td>0.99780</td>\n",
       "      <td>3.51</td>\n",
       "      <td>0.56</td>\n",
       "      <td>9.4</td>\n",
       "      <td>5</td>\n",
       "    </tr>\n",
       "    <tr>\n",
       "      <th>...</th>\n",
       "      <td>...</td>\n",
       "      <td>...</td>\n",
       "      <td>...</td>\n",
       "      <td>...</td>\n",
       "      <td>...</td>\n",
       "      <td>...</td>\n",
       "      <td>...</td>\n",
       "      <td>...</td>\n",
       "      <td>...</td>\n",
       "      <td>...</td>\n",
       "      <td>...</td>\n",
       "      <td>...</td>\n",
       "    </tr>\n",
       "    <tr>\n",
       "      <th>1594</th>\n",
       "      <td>6.2</td>\n",
       "      <td>0.600</td>\n",
       "      <td>0.08</td>\n",
       "      <td>2.0</td>\n",
       "      <td>0.090</td>\n",
       "      <td>32.0</td>\n",
       "      <td>44.0</td>\n",
       "      <td>0.99490</td>\n",
       "      <td>3.45</td>\n",
       "      <td>0.58</td>\n",
       "      <td>10.5</td>\n",
       "      <td>5</td>\n",
       "    </tr>\n",
       "    <tr>\n",
       "      <th>1595</th>\n",
       "      <td>5.9</td>\n",
       "      <td>0.550</td>\n",
       "      <td>0.10</td>\n",
       "      <td>2.2</td>\n",
       "      <td>0.062</td>\n",
       "      <td>39.0</td>\n",
       "      <td>51.0</td>\n",
       "      <td>0.99512</td>\n",
       "      <td>3.52</td>\n",
       "      <td>0.76</td>\n",
       "      <td>11.2</td>\n",
       "      <td>6</td>\n",
       "    </tr>\n",
       "    <tr>\n",
       "      <th>1596</th>\n",
       "      <td>6.3</td>\n",
       "      <td>0.510</td>\n",
       "      <td>0.13</td>\n",
       "      <td>2.3</td>\n",
       "      <td>0.076</td>\n",
       "      <td>29.0</td>\n",
       "      <td>40.0</td>\n",
       "      <td>0.99574</td>\n",
       "      <td>3.42</td>\n",
       "      <td>0.75</td>\n",
       "      <td>11.0</td>\n",
       "      <td>6</td>\n",
       "    </tr>\n",
       "    <tr>\n",
       "      <th>1597</th>\n",
       "      <td>5.9</td>\n",
       "      <td>0.645</td>\n",
       "      <td>0.12</td>\n",
       "      <td>2.0</td>\n",
       "      <td>0.075</td>\n",
       "      <td>32.0</td>\n",
       "      <td>44.0</td>\n",
       "      <td>0.99547</td>\n",
       "      <td>3.57</td>\n",
       "      <td>0.71</td>\n",
       "      <td>10.2</td>\n",
       "      <td>5</td>\n",
       "    </tr>\n",
       "    <tr>\n",
       "      <th>1598</th>\n",
       "      <td>6.0</td>\n",
       "      <td>0.310</td>\n",
       "      <td>0.47</td>\n",
       "      <td>3.6</td>\n",
       "      <td>0.067</td>\n",
       "      <td>18.0</td>\n",
       "      <td>42.0</td>\n",
       "      <td>0.99549</td>\n",
       "      <td>3.39</td>\n",
       "      <td>0.66</td>\n",
       "      <td>11.0</td>\n",
       "      <td>6</td>\n",
       "    </tr>\n",
       "  </tbody>\n",
       "</table>\n",
       "<p>1599 rows × 12 columns</p>\n",
       "</div>"
      ],
      "text/plain": [
       "      fixed acidity  volatile acidity  citric acid  ...  sulphates  alcohol  quality\n",
       "0               7.4             0.700         0.00  ...       0.56      9.4        5\n",
       "1               7.8             0.880         0.00  ...       0.68      9.8        5\n",
       "2               7.8             0.760         0.04  ...       0.65      9.8        5\n",
       "3              11.2             0.280         0.56  ...       0.58      9.8        6\n",
       "4               7.4             0.700         0.00  ...       0.56      9.4        5\n",
       "...             ...               ...          ...  ...        ...      ...      ...\n",
       "1594            6.2             0.600         0.08  ...       0.58     10.5        5\n",
       "1595            5.9             0.550         0.10  ...       0.76     11.2        6\n",
       "1596            6.3             0.510         0.13  ...       0.75     11.0        6\n",
       "1597            5.9             0.645         0.12  ...       0.71     10.2        5\n",
       "1598            6.0             0.310         0.47  ...       0.66     11.0        6\n",
       "\n",
       "[1599 rows x 12 columns]"
      ]
     },
     "execution_count": 5,
     "metadata": {
      "tags": []
     },
     "output_type": "execute_result"
    }
   ],
   "source": [
    "red"
   ]
  },
  {
   "cell_type": "code",
   "execution_count": 8,
   "metadata": {
    "colab": {},
    "colab_type": "code",
    "executionInfo": {
     "elapsed": 1003,
     "status": "ok",
     "timestamp": 1594912636580,
     "user": {
      "displayName": "ABHINAV DAS",
      "photoUrl": "https://lh3.googleusercontent.com/a-/AOh14Gg-H5lMwuXqg7oB5QljZnroho8lUdwoofSDuKXl=s64",
      "userId": "00722746349216718075"
     },
     "user_tz": -330
    },
    "id": "gtmSVnC2kG6f"
   },
   "outputs": [],
   "source": [
    "red[\"type\"] = 1\n",
    "white[\"type\"] = 0\n",
    "##merging red and white data set into a single dataset\n",
    "wines = white.append(red, ignore_index = True)"
   ]
  },
  {
   "cell_type": "code",
   "execution_count": 9,
   "metadata": {
    "colab": {
     "base_uri": "https://localhost:8080/",
     "height": 402
    },
    "colab_type": "code",
    "executionInfo": {
     "elapsed": 1025,
     "status": "ok",
     "timestamp": 1594912641152,
     "user": {
      "displayName": "ABHINAV DAS",
      "photoUrl": "https://lh3.googleusercontent.com/a-/AOh14Gg-H5lMwuXqg7oB5QljZnroho8lUdwoofSDuKXl=s64",
      "userId": "00722746349216718075"
     },
     "user_tz": -330
    },
    "id": "09omzxL0Lwxj",
    "outputId": "5d3c1d5e-2c2c-40d7-c180-fc9becb56538"
   },
   "outputs": [
    {
     "data": {
      "text/html": [
       "<div>\n",
       "<style scoped>\n",
       "    .dataframe tbody tr th:only-of-type {\n",
       "        vertical-align: middle;\n",
       "    }\n",
       "\n",
       "    .dataframe tbody tr th {\n",
       "        vertical-align: top;\n",
       "    }\n",
       "\n",
       "    .dataframe thead th {\n",
       "        text-align: right;\n",
       "    }\n",
       "</style>\n",
       "<table border=\"1\" class=\"dataframe\">\n",
       "  <thead>\n",
       "    <tr style=\"text-align: right;\">\n",
       "      <th></th>\n",
       "      <th>fixed acidity</th>\n",
       "      <th>volatile acidity</th>\n",
       "      <th>citric acid</th>\n",
       "      <th>residual sugar</th>\n",
       "      <th>chlorides</th>\n",
       "      <th>free sulfur dioxide</th>\n",
       "      <th>total sulfur dioxide</th>\n",
       "      <th>density</th>\n",
       "      <th>pH</th>\n",
       "      <th>sulphates</th>\n",
       "      <th>alcohol</th>\n",
       "      <th>quality</th>\n",
       "      <th>type</th>\n",
       "    </tr>\n",
       "  </thead>\n",
       "  <tbody>\n",
       "    <tr>\n",
       "      <th>0</th>\n",
       "      <td>7.0</td>\n",
       "      <td>0.270</td>\n",
       "      <td>0.36</td>\n",
       "      <td>20.7</td>\n",
       "      <td>0.045</td>\n",
       "      <td>45.0</td>\n",
       "      <td>170.0</td>\n",
       "      <td>1.00100</td>\n",
       "      <td>3.00</td>\n",
       "      <td>0.45</td>\n",
       "      <td>8.8</td>\n",
       "      <td>6</td>\n",
       "      <td>0</td>\n",
       "    </tr>\n",
       "    <tr>\n",
       "      <th>1</th>\n",
       "      <td>6.3</td>\n",
       "      <td>0.300</td>\n",
       "      <td>0.34</td>\n",
       "      <td>1.6</td>\n",
       "      <td>0.049</td>\n",
       "      <td>14.0</td>\n",
       "      <td>132.0</td>\n",
       "      <td>0.99400</td>\n",
       "      <td>3.30</td>\n",
       "      <td>0.49</td>\n",
       "      <td>9.5</td>\n",
       "      <td>6</td>\n",
       "      <td>0</td>\n",
       "    </tr>\n",
       "    <tr>\n",
       "      <th>2</th>\n",
       "      <td>8.1</td>\n",
       "      <td>0.280</td>\n",
       "      <td>0.40</td>\n",
       "      <td>6.9</td>\n",
       "      <td>0.050</td>\n",
       "      <td>30.0</td>\n",
       "      <td>97.0</td>\n",
       "      <td>0.99510</td>\n",
       "      <td>3.26</td>\n",
       "      <td>0.44</td>\n",
       "      <td>10.1</td>\n",
       "      <td>6</td>\n",
       "      <td>0</td>\n",
       "    </tr>\n",
       "    <tr>\n",
       "      <th>3</th>\n",
       "      <td>7.2</td>\n",
       "      <td>0.230</td>\n",
       "      <td>0.32</td>\n",
       "      <td>8.5</td>\n",
       "      <td>0.058</td>\n",
       "      <td>47.0</td>\n",
       "      <td>186.0</td>\n",
       "      <td>0.99560</td>\n",
       "      <td>3.19</td>\n",
       "      <td>0.40</td>\n",
       "      <td>9.9</td>\n",
       "      <td>6</td>\n",
       "      <td>0</td>\n",
       "    </tr>\n",
       "    <tr>\n",
       "      <th>4</th>\n",
       "      <td>7.2</td>\n",
       "      <td>0.230</td>\n",
       "      <td>0.32</td>\n",
       "      <td>8.5</td>\n",
       "      <td>0.058</td>\n",
       "      <td>47.0</td>\n",
       "      <td>186.0</td>\n",
       "      <td>0.99560</td>\n",
       "      <td>3.19</td>\n",
       "      <td>0.40</td>\n",
       "      <td>9.9</td>\n",
       "      <td>6</td>\n",
       "      <td>0</td>\n",
       "    </tr>\n",
       "    <tr>\n",
       "      <th>...</th>\n",
       "      <td>...</td>\n",
       "      <td>...</td>\n",
       "      <td>...</td>\n",
       "      <td>...</td>\n",
       "      <td>...</td>\n",
       "      <td>...</td>\n",
       "      <td>...</td>\n",
       "      <td>...</td>\n",
       "      <td>...</td>\n",
       "      <td>...</td>\n",
       "      <td>...</td>\n",
       "      <td>...</td>\n",
       "      <td>...</td>\n",
       "    </tr>\n",
       "    <tr>\n",
       "      <th>6492</th>\n",
       "      <td>6.2</td>\n",
       "      <td>0.600</td>\n",
       "      <td>0.08</td>\n",
       "      <td>2.0</td>\n",
       "      <td>0.090</td>\n",
       "      <td>32.0</td>\n",
       "      <td>44.0</td>\n",
       "      <td>0.99490</td>\n",
       "      <td>3.45</td>\n",
       "      <td>0.58</td>\n",
       "      <td>10.5</td>\n",
       "      <td>5</td>\n",
       "      <td>1</td>\n",
       "    </tr>\n",
       "    <tr>\n",
       "      <th>6493</th>\n",
       "      <td>5.9</td>\n",
       "      <td>0.550</td>\n",
       "      <td>0.10</td>\n",
       "      <td>2.2</td>\n",
       "      <td>0.062</td>\n",
       "      <td>39.0</td>\n",
       "      <td>51.0</td>\n",
       "      <td>0.99512</td>\n",
       "      <td>3.52</td>\n",
       "      <td>0.76</td>\n",
       "      <td>11.2</td>\n",
       "      <td>6</td>\n",
       "      <td>1</td>\n",
       "    </tr>\n",
       "    <tr>\n",
       "      <th>6494</th>\n",
       "      <td>6.3</td>\n",
       "      <td>0.510</td>\n",
       "      <td>0.13</td>\n",
       "      <td>2.3</td>\n",
       "      <td>0.076</td>\n",
       "      <td>29.0</td>\n",
       "      <td>40.0</td>\n",
       "      <td>0.99574</td>\n",
       "      <td>3.42</td>\n",
       "      <td>0.75</td>\n",
       "      <td>11.0</td>\n",
       "      <td>6</td>\n",
       "      <td>1</td>\n",
       "    </tr>\n",
       "    <tr>\n",
       "      <th>6495</th>\n",
       "      <td>5.9</td>\n",
       "      <td>0.645</td>\n",
       "      <td>0.12</td>\n",
       "      <td>2.0</td>\n",
       "      <td>0.075</td>\n",
       "      <td>32.0</td>\n",
       "      <td>44.0</td>\n",
       "      <td>0.99547</td>\n",
       "      <td>3.57</td>\n",
       "      <td>0.71</td>\n",
       "      <td>10.2</td>\n",
       "      <td>5</td>\n",
       "      <td>1</td>\n",
       "    </tr>\n",
       "    <tr>\n",
       "      <th>6496</th>\n",
       "      <td>6.0</td>\n",
       "      <td>0.310</td>\n",
       "      <td>0.47</td>\n",
       "      <td>3.6</td>\n",
       "      <td>0.067</td>\n",
       "      <td>18.0</td>\n",
       "      <td>42.0</td>\n",
       "      <td>0.99549</td>\n",
       "      <td>3.39</td>\n",
       "      <td>0.66</td>\n",
       "      <td>11.0</td>\n",
       "      <td>6</td>\n",
       "      <td>1</td>\n",
       "    </tr>\n",
       "  </tbody>\n",
       "</table>\n",
       "<p>6497 rows × 13 columns</p>\n",
       "</div>"
      ],
      "text/plain": [
       "      fixed acidity  volatile acidity  citric acid  ...  alcohol  quality  type\n",
       "0               7.0             0.270         0.36  ...      8.8        6     0\n",
       "1               6.3             0.300         0.34  ...      9.5        6     0\n",
       "2               8.1             0.280         0.40  ...     10.1        6     0\n",
       "3               7.2             0.230         0.32  ...      9.9        6     0\n",
       "4               7.2             0.230         0.32  ...      9.9        6     0\n",
       "...             ...               ...          ...  ...      ...      ...   ...\n",
       "6492            6.2             0.600         0.08  ...     10.5        5     1\n",
       "6493            5.9             0.550         0.10  ...     11.2        6     1\n",
       "6494            6.3             0.510         0.13  ...     11.0        6     1\n",
       "6495            5.9             0.645         0.12  ...     10.2        5     1\n",
       "6496            6.0             0.310         0.47  ...     11.0        6     1\n",
       "\n",
       "[6497 rows x 13 columns]"
      ]
     },
     "execution_count": 9,
     "metadata": {
      "tags": []
     },
     "output_type": "execute_result"
    }
   ],
   "source": [
    "wines"
   ]
  },
  {
   "cell_type": "code",
   "execution_count": 11,
   "metadata": {
    "colab": {},
    "colab_type": "code",
    "executionInfo": {
     "elapsed": 929,
     "status": "ok",
     "timestamp": 1594912936397,
     "user": {
      "displayName": "ABHINAV DAS",
      "photoUrl": "https://lh3.googleusercontent.com/a-/AOh14Gg-H5lMwuXqg7oB5QljZnroho8lUdwoofSDuKXl=s64",
      "userId": "00722746349216718075"
     },
     "user_tz": -330
    },
    "id": "Jv4MyscfMAKB"
   },
   "outputs": [],
   "source": [
    "from sklearn.model_selection import train_test_split\n",
    "from sklearn.preprocessing import StandardScaler\n",
    "x,y = wines.iloc[:, :-1].values, wines.iloc[:, -1].values\n",
    "trainx, testx, trainy, testy = train_test_split(x, y, test_size = 0.2, random_state = 12)"
   ]
  },
  {
   "cell_type": "code",
   "execution_count": 12,
   "metadata": {
    "colab": {
     "base_uri": "https://localhost:8080/",
     "height": 34
    },
    "colab_type": "code",
    "executionInfo": {
     "elapsed": 1029,
     "status": "ok",
     "timestamp": 1594912958767,
     "user": {
      "displayName": "ABHINAV DAS",
      "photoUrl": "https://lh3.googleusercontent.com/a-/AOh14Gg-H5lMwuXqg7oB5QljZnroho8lUdwoofSDuKXl=s64",
      "userId": "00722746349216718075"
     },
     "user_tz": -330
    },
    "id": "o8I0HtaTNj6r",
    "outputId": "5bd98dc1-e4f7-4b46-f424-54f4b62b1cf1"
   },
   "outputs": [
    {
     "data": {
      "text/plain": [
       "(5197, 12)"
      ]
     },
     "execution_count": 12,
     "metadata": {
      "tags": []
     },
     "output_type": "execute_result"
    }
   ],
   "source": [
    "trainx.shape"
   ]
  },
  {
   "cell_type": "code",
   "execution_count": 13,
   "metadata": {
    "colab": {},
    "colab_type": "code",
    "executionInfo": {
     "elapsed": 1126,
     "status": "ok",
     "timestamp": 1594914147427,
     "user": {
      "displayName": "ABHINAV DAS",
      "photoUrl": "https://lh3.googleusercontent.com/a-/AOh14Gg-H5lMwuXqg7oB5QljZnroho8lUdwoofSDuKXl=s64",
      "userId": "00722746349216718075"
     },
     "user_tz": -330
    },
    "id": "bJpNL0-0OGT1"
   },
   "outputs": [],
   "source": [
    "scaller = StandardScaler()\n",
    "trainx = scaller.fit_transform(trainx)\n",
    "testx = scaller.fit_transform(testx)"
   ]
  },
  {
   "cell_type": "code",
   "execution_count": 14,
   "metadata": {
    "colab": {},
    "colab_type": "code",
    "executionInfo": {
     "elapsed": 1151,
     "status": "ok",
     "timestamp": 1594914386129,
     "user": {
      "displayName": "ABHINAV DAS",
      "photoUrl": "https://lh3.googleusercontent.com/a-/AOh14Gg-H5lMwuXqg7oB5QljZnroho8lUdwoofSDuKXl=s64",
      "userId": "00722746349216718075"
     },
     "user_tz": -330
    },
    "id": "2jezKsPESofB"
   },
   "outputs": [],
   "source": [
    "### deep learning"
   ]
  },
  {
   "cell_type": "code",
   "execution_count": 18,
   "metadata": {
    "colab": {},
    "colab_type": "code",
    "executionInfo": {
     "elapsed": 971,
     "status": "ok",
     "timestamp": 1594919307466,
     "user": {
      "displayName": "ABHINAV DAS",
      "photoUrl": "https://lh3.googleusercontent.com/a-/AOh14Gg-H5lMwuXqg7oB5QljZnroho8lUdwoofSDuKXl=s64",
      "userId": "00722746349216718075"
     },
     "user_tz": -330
    },
    "id": "su2-loh9Tiwi"
   },
   "outputs": [],
   "source": [
    "from tensorflow.keras import Sequential\n",
    "from tensorflow.keras.layers import Dense\n"
   ]
  },
  {
   "cell_type": "code",
   "execution_count": 53,
   "metadata": {
    "colab": {
     "base_uri": "https://localhost:8080/",
     "height": 689
    },
    "colab_type": "code",
    "executionInfo": {
     "elapsed": 2131,
     "status": "ok",
     "timestamp": 1594923383503,
     "user": {
      "displayName": "ABHINAV DAS",
      "photoUrl": "https://lh3.googleusercontent.com/a-/AOh14Gg-H5lMwuXqg7oB5QljZnroho8lUdwoofSDuKXl=s64",
      "userId": "00722746349216718075"
     },
     "user_tz": -330
    },
    "id": "LPSzmMk4g4kR",
    "outputId": "6300b938-73f5-4937-b7c3-c412b438dffb"
   },
   "outputs": [
    {
     "name": "stdout",
     "output_type": "stream",
     "text": [
      "Epoch 1/20\n",
      "1/1 [==============================] - 0s 109ms/step - loss: 0.9153 - accuracy: 0.2554 - val_loss: 0.8784 - val_accuracy: 0.2647\n",
      "Epoch 2/20\n",
      "1/1 [==============================] - 0s 34ms/step - loss: 0.8879 - accuracy: 0.2651 - val_loss: 0.8525 - val_accuracy: 0.2776\n",
      "Epoch 3/20\n",
      "1/1 [==============================] - 0s 33ms/step - loss: 0.8615 - accuracy: 0.2794 - val_loss: 0.8277 - val_accuracy: 0.2994\n",
      "Epoch 4/20\n",
      "1/1 [==============================] - 0s 34ms/step - loss: 0.8363 - accuracy: 0.3022 - val_loss: 0.8039 - val_accuracy: 0.3288\n",
      "Epoch 5/20\n",
      "1/1 [==============================] - 0s 34ms/step - loss: 0.8121 - accuracy: 0.3211 - val_loss: 0.7812 - val_accuracy: 0.3615\n",
      "Epoch 6/20\n",
      "1/1 [==============================] - 0s 35ms/step - loss: 0.7890 - accuracy: 0.3555 - val_loss: 0.7595 - val_accuracy: 0.4019\n",
      "Epoch 7/20\n",
      "1/1 [==============================] - 0s 38ms/step - loss: 0.7668 - accuracy: 0.3979 - val_loss: 0.7387 - val_accuracy: 0.4615\n",
      "Epoch 8/20\n",
      "1/1 [==============================] - 0s 40ms/step - loss: 0.7457 - accuracy: 0.4611 - val_loss: 0.7189 - val_accuracy: 0.5141\n",
      "Epoch 9/20\n",
      "1/1 [==============================] - 0s 34ms/step - loss: 0.7254 - accuracy: 0.5128 - val_loss: 0.6998 - val_accuracy: 0.5731\n",
      "Epoch 10/20\n",
      "1/1 [==============================] - 0s 40ms/step - loss: 0.7061 - accuracy: 0.5656 - val_loss: 0.6816 - val_accuracy: 0.6141\n",
      "Epoch 11/20\n",
      "1/1 [==============================] - 0s 34ms/step - loss: 0.6875 - accuracy: 0.6115 - val_loss: 0.6641 - val_accuracy: 0.6596\n",
      "Epoch 12/20\n",
      "1/1 [==============================] - 0s 36ms/step - loss: 0.6697 - accuracy: 0.6599 - val_loss: 0.6473 - val_accuracy: 0.6942\n",
      "Epoch 13/20\n",
      "1/1 [==============================] - 0s 34ms/step - loss: 0.6526 - accuracy: 0.7017 - val_loss: 0.6311 - val_accuracy: 0.7256\n",
      "Epoch 14/20\n",
      "1/1 [==============================] - 0s 34ms/step - loss: 0.6362 - accuracy: 0.7319 - val_loss: 0.6155 - val_accuracy: 0.7603\n",
      "Epoch 15/20\n",
      "1/1 [==============================] - 0s 42ms/step - loss: 0.6203 - accuracy: 0.7542 - val_loss: 0.6004 - val_accuracy: 0.7910\n",
      "Epoch 16/20\n",
      "1/1 [==============================] - 0s 35ms/step - loss: 0.6050 - accuracy: 0.7855 - val_loss: 0.5858 - val_accuracy: 0.8231\n",
      "Epoch 17/20\n",
      "1/1 [==============================] - 0s 34ms/step - loss: 0.5902 - accuracy: 0.8100 - val_loss: 0.5715 - val_accuracy: 0.8462\n",
      "Epoch 18/20\n",
      "1/1 [==============================] - 0s 34ms/step - loss: 0.5759 - accuracy: 0.8397 - val_loss: 0.5577 - val_accuracy: 0.8712\n",
      "Epoch 19/20\n",
      "1/1 [==============================] - 0s 40ms/step - loss: 0.5620 - accuracy: 0.8611 - val_loss: 0.5443 - val_accuracy: 0.8891\n",
      "Epoch 20/20\n",
      "1/1 [==============================] - 0s 35ms/step - loss: 0.5484 - accuracy: 0.8809 - val_loss: 0.5311 - val_accuracy: 0.9038\n"
     ]
    }
   ],
   "source": [
    "model = Sequential()\n",
    "model.add(Dense(30, activation = \"relu\", input_shape = (12,)))\n",
    "model.add(Dense(50, activation = \"relu\"))\n",
    "##no of nuerons =1 as its a binary classification i.e o/p is either 1 or 0\n",
    "model.add(Dense(1, activation = \"sigmoid\"))\n",
    "model.compile(loss = \"binary_crossentropy\", optimizer=\"adam\", metrics=[\"accuracy\"])\n",
    "history = model.fit(trainx, trainy, validation_split=0.3, epochs=20, batch_size=5197)"
   ]
  },
  {
   "cell_type": "code",
   "execution_count": 54,
   "metadata": {
    "colab": {
     "base_uri": "https://localhost:8080/",
     "height": 252
    },
    "colab_type": "code",
    "executionInfo": {
     "elapsed": 1031,
     "status": "ok",
     "timestamp": 1594923388240,
     "user": {
      "displayName": "ABHINAV DAS",
      "photoUrl": "https://lh3.googleusercontent.com/a-/AOh14Gg-H5lMwuXqg7oB5QljZnroho8lUdwoofSDuKXl=s64",
      "userId": "00722746349216718075"
     },
     "user_tz": -330
    },
    "id": "C2-zzw_linFu",
    "outputId": "63d905ac-4f03-4059-d6a0-8aa3dcf6b755"
   },
   "outputs": [
    {
     "name": "stdout",
     "output_type": "stream",
     "text": [
      "Model: \"sequential_9\"\n",
      "_________________________________________________________________\n",
      "Layer (type)                 Output Shape              Param #   \n",
      "=================================================================\n",
      "dense_21 (Dense)             (None, 30)                390       \n",
      "_________________________________________________________________\n",
      "dense_22 (Dense)             (None, 50)                1550      \n",
      "_________________________________________________________________\n",
      "dense_23 (Dense)             (None, 1)                 51        \n",
      "=================================================================\n",
      "Total params: 1,991\n",
      "Trainable params: 1,991\n",
      "Non-trainable params: 0\n",
      "_________________________________________________________________\n"
     ]
    }
   ],
   "source": [
    "model.summary()"
   ]
  },
  {
   "cell_type": "code",
   "execution_count": 55,
   "metadata": {
    "colab": {
     "base_uri": "https://localhost:8080/",
     "height": 1000
    },
    "colab_type": "code",
    "executionInfo": {
     "elapsed": 1186,
     "status": "ok",
     "timestamp": 1594923391259,
     "user": {
      "displayName": "ABHINAV DAS",
      "photoUrl": "https://lh3.googleusercontent.com/a-/AOh14Gg-H5lMwuXqg7oB5QljZnroho8lUdwoofSDuKXl=s64",
      "userId": "00722746349216718075"
     },
     "user_tz": -330
    },
    "id": "brIUtYP8irPi",
    "outputId": "2e84b280-c47c-4272-bdad-25429cedb99e"
   },
   "outputs": [
    {
     "data": {
      "text/plain": [
       "{'accuracy': [0.25543031096458435,\n",
       "  0.2650536298751831,\n",
       "  0.2793511152267456,\n",
       "  0.30217212438583374,\n",
       "  0.3211438059806824,\n",
       "  0.355512797832489,\n",
       "  0.39785537123680115,\n",
       "  0.46109431982040405,\n",
       "  0.5127852559089661,\n",
       "  0.5655760169029236,\n",
       "  0.6114929914474487,\n",
       "  0.659884512424469,\n",
       "  0.7016772031784058,\n",
       "  0.731921911239624,\n",
       "  0.7541930079460144,\n",
       "  0.7855375409126282,\n",
       "  0.8100082278251648,\n",
       "  0.8397030234336853,\n",
       "  0.8611493110656738,\n",
       "  0.8809458613395691],\n",
       " 'loss': [0.9153338074684143,\n",
       "  0.8878809213638306,\n",
       "  0.8615260720252991,\n",
       "  0.8362593650817871,\n",
       "  0.8120840191841125,\n",
       "  0.7889549136161804,\n",
       "  0.7668295502662659,\n",
       "  0.7456689476966858,\n",
       "  0.7254301309585571,\n",
       "  0.7060520052909851,\n",
       "  0.6874946355819702,\n",
       "  0.6697022914886475,\n",
       "  0.652608335018158,\n",
       "  0.6361678242683411,\n",
       "  0.6203138828277588,\n",
       "  0.6050076484680176,\n",
       "  0.5902085900306702,\n",
       "  0.5758751630783081,\n",
       "  0.5619598031044006,\n",
       "  0.5484325885772705],\n",
       " 'val_accuracy': [0.2647435963153839,\n",
       "  0.2775641083717346,\n",
       "  0.29935896396636963,\n",
       "  0.32884615659713745,\n",
       "  0.36153846979141235,\n",
       "  0.4019230902194977,\n",
       "  0.4615384638309479,\n",
       "  0.514102578163147,\n",
       "  0.5730769038200378,\n",
       "  0.6141025424003601,\n",
       "  0.6596153974533081,\n",
       "  0.6942307949066162,\n",
       "  0.7256410121917725,\n",
       "  0.7602564096450806,\n",
       "  0.7910256385803223,\n",
       "  0.8230769038200378,\n",
       "  0.8461538553237915,\n",
       "  0.8711538314819336,\n",
       "  0.889102578163147,\n",
       "  0.9038461446762085],\n",
       " 'val_loss': [0.8783501982688904,\n",
       "  0.8524859547615051,\n",
       "  0.8276764154434204,\n",
       "  0.8039366006851196,\n",
       "  0.7812259793281555,\n",
       "  0.7595002055168152,\n",
       "  0.738717257976532,\n",
       "  0.718850314617157,\n",
       "  0.6998326182365417,\n",
       "  0.6815866231918335,\n",
       "  0.6640787720680237,\n",
       "  0.6472598910331726,\n",
       "  0.6310690641403198,\n",
       "  0.6154694557189941,\n",
       "  0.6003866195678711,\n",
       "  0.5857546329498291,\n",
       "  0.5715388655662537,\n",
       "  0.5577125549316406,\n",
       "  0.54425448179245,\n",
       "  0.5311248898506165]}"
      ]
     },
     "execution_count": 55,
     "metadata": {
      "tags": []
     },
     "output_type": "execute_result"
    }
   ],
   "source": [
    "history.history"
   ]
  },
  {
   "cell_type": "code",
   "execution_count": 56,
   "metadata": {
    "colab": {},
    "colab_type": "code",
    "executionInfo": {
     "elapsed": 1186,
     "status": "ok",
     "timestamp": 1594923395122,
     "user": {
      "displayName": "ABHINAV DAS",
      "photoUrl": "https://lh3.googleusercontent.com/a-/AOh14Gg-H5lMwuXqg7oB5QljZnroho8lUdwoofSDuKXl=s64",
      "userId": "00722746349216718075"
     },
     "user_tz": -330
    },
    "id": "9xiIQWHlxo_Y"
   },
   "outputs": [],
   "source": [
    "loss = history.history[\"loss\"]\n",
    "val_loss = history.history[\"val_loss\"]\n",
    "accuracy = history.history[\"accuracy\"]\n",
    "val_accuracy = history.history[\"val_accuracy\"]\n",
    "\n",
    "\n"
   ]
  },
  {
   "cell_type": "code",
   "execution_count": 57,
   "metadata": {
    "colab": {
     "base_uri": "https://localhost:8080/",
     "height": 283
    },
    "colab_type": "code",
    "executionInfo": {
     "elapsed": 1004,
     "status": "ok",
     "timestamp": 1594923398213,
     "user": {
      "displayName": "ABHINAV DAS",
      "photoUrl": "https://lh3.googleusercontent.com/a-/AOh14Gg-H5lMwuXqg7oB5QljZnroho8lUdwoofSDuKXl=s64",
      "userId": "00722746349216718075"
     },
     "user_tz": -330
    },
    "id": "73bnpB1lzvjE",
    "outputId": "6282c954-8062-41af-d29b-f13726d5cea4"
   },
   "outputs": [
    {
     "data": {
      "text/plain": [
       "<matplotlib.axes._subplots.AxesSubplot at 0x7f896579b4e0>"
      ]
     },
     "execution_count": 57,
     "metadata": {
      "tags": []
     },
     "output_type": "execute_result"
    },
    {
     "data": {
      "image/png": "[encoded data removed]",
      "text/plain": [
       "<Figure size 432x288 with 1 Axes>"
      ]
     },
     "metadata": {
      "needs_background": "light",
      "tags": []
     },
     "output_type": "display_data"
    }
   ],
   "source": [
    "tva = pd.DataFrame({\"training_acc\":accuracy,\n",
    "                    \"val_acc\":val_accuracy})\n",
    "tva.boxplot()"
   ]
  },
  {
   "cell_type": "code",
   "execution_count": 60,
   "metadata": {
    "colab": {},
    "colab_type": "code",
    "executionInfo": {
     "elapsed": 1017,
     "status": "ok",
     "timestamp": 1594923501902,
     "user": {
      "displayName": "ABHINAV DAS",
      "photoUrl": "https://lh3.googleusercontent.com/a-/AOh14Gg-H5lMwuXqg7oB5QljZnroho8lUdwoofSDuKXl=s64",
      "userId": "00722746349216718075"
     },
     "user_tz": -330
    },
    "id": "aKewXlSv0eE4"
   },
   "outputs": [],
   "source": [
    "y_pred = np.round(model.predict(testx))\n"
   ]
  },
  {
   "cell_type": "code",
   "execution_count": 61,
   "metadata": {
    "colab": {
     "base_uri": "https://localhost:8080/",
     "height": 134
    },
    "colab_type": "code",
    "executionInfo": {
     "elapsed": 1142,
     "status": "ok",
     "timestamp": 1594923505354,
     "user": {
      "displayName": "ABHINAV DAS",
      "photoUrl": "https://lh3.googleusercontent.com/a-/AOh14Gg-H5lMwuXqg7oB5QljZnroho8lUdwoofSDuKXl=s64",
      "userId": "00722746349216718075"
     },
     "user_tz": -330
    },
    "id": "myc2dsEb2Iea",
    "outputId": "0af258e1-cc8c-4a1c-b47a-fd25fe0a71ba"
   },
   "outputs": [
    {
     "data": {
      "text/plain": [
       "array([[0.],\n",
       "       [0.],\n",
       "       [0.],\n",
       "       ...,\n",
       "       [0.],\n",
       "       [1.],\n",
       "       [0.]], dtype=float32)"
      ]
     },
     "execution_count": 61,
     "metadata": {
      "tags": []
     },
     "output_type": "execute_result"
    }
   ],
   "source": [
    "y_pred"
   ]
  },
  {
   "cell_type": "code",
   "execution_count": 62,
   "metadata": {
    "colab": {},
    "colab_type": "code",
    "executionInfo": {
     "elapsed": 914,
     "status": "ok",
     "timestamp": 1594923536770,
     "user": {
      "displayName": "ABHINAV DAS",
      "photoUrl": "https://lh3.googleusercontent.com/a-/AOh14Gg-H5lMwuXqg7oB5QljZnroho8lUdwoofSDuKXl=s64",
      "userId": "00722746349216718075"
     },
     "user_tz": -330
    },
    "id": "8fWxTvcT2J26"
   },
   "outputs": [],
   "source": [
    "from sklearn.metrics import accuracy_score"
   ]
  },
  {
   "cell_type": "code",
   "execution_count": 63,
   "metadata": {
    "colab": {
     "base_uri": "https://localhost:8080/",
     "height": 34
    },
    "colab_type": "code",
    "executionInfo": {
     "elapsed": 911,
     "status": "ok",
     "timestamp": 1594923558457,
     "user": {
      "displayName": "ABHINAV DAS",
      "photoUrl": "https://lh3.googleusercontent.com/a-/AOh14Gg-H5lMwuXqg7oB5QljZnroho8lUdwoofSDuKXl=s64",
      "userId": "00722746349216718075"
     },
     "user_tz": -330
    },
    "id": "jmCDTuKo2c2t",
    "outputId": "6ec74025-3d7c-4cad-f118-637d68cf0d63"
   },
   "outputs": [
    {
     "data": {
      "text/plain": [
       "0.8946153846153846"
      ]
     },
     "execution_count": 63,
     "metadata": {
      "tags": []
     },
     "output_type": "execute_result"
    }
   ],
   "source": [
    "accuracy_score(y_pred,testy)"
   ]
  },
  {
   "cell_type": "code",
   "execution_count": null,
   "metadata": {
    "colab": {},
    "colab_type": "code",
    "id": "UHwvOQLg2iJ6"
   },
   "outputs": [],
   "source": []
  },
  {
   "cell_type": "code",
   "execution_count": null,
   "metadata": {
    "colab": {},
    "colab_type": "code",
    "id": "0yl626pu2quS"
   },
   "outputs": [],
   "source": []
  }
 ],
 "metadata": {
  "colab": {
   "authorship_tag": "ABX9TyOEwSEz1bnr15gmmVGt8/Uy",
   "collapsed_sections": [],
   "name": "dl_winedataset.ipynb",
   "provenance": []
  },
  "kernelspec": {
   "display_name": "Python 3",
   "language": "python",
   "name": "python3"
  },
  "language_info": {
   "codemirror_mode": {
    "name": "ipython",
    "version": 3
   },
   "file_extension": ".py",
   "mimetype": "text/x-python",
   "name": "python",
   "nbconvert_exporter": "python",
   "pygments_lexer": "ipython3",
   "version": "3.7.6"
  }
 },
 "nbformat": 4,
 "nbformat_minor": 1
}
